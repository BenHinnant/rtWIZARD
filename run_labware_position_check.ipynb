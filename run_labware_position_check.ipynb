{
 "cells": [
  {
   "cell_type": "code",
   "execution_count": null,
   "id": "580713f1",
   "metadata": {},
   "outputs": [],
   "source": [
    "metadata = {\"apiLevel\": \"2.13\"}\n",
    "\n",
    "def run(protocol):\n",
    "    slot1 = protocol.load_labware('rtwizard_slots_147', 1)\n",
    "    slot2 = protocol.load_labware('rtwizard_slots_258', 2)\n",
    "    slot3 = protocol.load_labware('rtwizard_slots_369', 3)\n",
    "    slot4 = protocol.load_labware('rtwizard_slots_147', 4)\n",
    "    slot5 = protocol.load_labware('rtwizard_slots_258', 5)\n",
    "    slot6 = protocol.load_labware('rtwizard_slots_369', 6)\n",
    "    slot7 = protocol.load_labware('rtwizard_slots_147', 7)\n",
    "    slot8 = protocol.load_labware('rtwizard_slots_258', 8)\n",
    "    slot9 = protocol.load_labware('rtwizard_slots_369', 9)\n",
    "    \n",
    "    sample_plate = protocol.load_labware('rtwizard_48_wellplate_sarstedt_1100ul_tubes', 10)\n",
    "    tips = protocol.load_labware('opentrons_96_tiprack_20ul', 11)\n",
    "    \n",
    "    small_pipette = protocol.load_instrument('p20_single_gen2', 'right', tip_racks=[tips])\n",
    "    small_pipette.pick_up_tip()\n",
    "    small_pipette.return_tip()"
   ]
  }
 ],
 "metadata": {
  "kernelspec": {
   "display_name": "Python 3 (ipykernel)",
   "language": "python",
   "name": "python3"
  },
  "language_info": {
   "codemirror_mode": {
    "name": "ipython",
    "version": 3
   },
   "file_extension": ".py",
   "mimetype": "text/x-python",
   "name": "python",
   "nbconvert_exporter": "python",
   "pygments_lexer": "ipython3",
   "version": "3.9.18"
  }
 },
 "nbformat": 4,
 "nbformat_minor": 5
}
